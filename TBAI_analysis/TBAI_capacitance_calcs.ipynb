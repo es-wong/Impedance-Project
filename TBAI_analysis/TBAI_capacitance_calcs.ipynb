{
 "cells": [
  {
   "cell_type": "markdown",
   "metadata": {},
   "source": [
    "# TBAI Capacitance Calcs # \n",
    "\n",
    "This script calculates the depletion widths and dominant contributions to junction capacitance\n",
    "\n"
   ]
  },
  {
   "cell_type": "code",
   "execution_count": 1,
   "metadata": {
    "collapsed": true
   },
   "outputs": [],
   "source": [
    "def savitzky_golay(y, window_size, order, deriv=0, rate=1):\n",
    "    r\"\"\"Smooth (and optionally differentiate) data with a Savitzky-Golay filter.\n",
    "    The Savitzky-Golay filter removes high frequency noise from data.\n",
    "    It has the advantage of preserving the original shape and\n",
    "    features of the signal better than other types of filtering\n",
    "    approaches, such as moving averages techniques.\n",
    "    Parameters\n",
    "    ----------\n",
    "    y : array_like, shape (N,)\n",
    "        the values of the time history of the signal.\n",
    "    window_size : int\n",
    "        the length of the window. Must be an odd integer number.\n",
    "    order : int\n",
    "        the order of the polynomial used in the filtering.\n",
    "        Must be less then `window_size` - 1.\n",
    "    deriv: int\n",
    "        the order of the derivative to compute (default = 0 means only smoothing)\n",
    "    Returns\n",
    "    -------\n",
    "    ys : ndarray, shape (N)\n",
    "        the smoothed signal (or it's n-th derivative).\n",
    "    Notes\n",
    "    -----\n",
    "    The Savitzky-Golay is a type of low-pass filter, particularly\n",
    "    suited for smoothing noisy data. The main idea behind this\n",
    "    approach is to make for each point a least-square fit with a\n",
    "    polynomial of high order over a odd-sized window centered at\n",
    "    the point.\n",
    "    Examples\n",
    "    --------\n",
    "    t = np.linspace(-4, 4, 500)\n",
    "    y = np.exp( -t**2 ) + np.random.normal(0, 0.05, t.shape)\n",
    "    ysg = savitzky_golay(y, window_size=31, order=4)\n",
    "    import matplotlib.pyplot as plt\n",
    "    plt.plot(t, y, label='Noisy signal')\n",
    "    plt.plot(t, np.exp(-t**2), 'k', lw=1.5, label='Original signal')\n",
    "    plt.plot(t, ysg, 'r', label='Filtered signal')\n",
    "    plt.legend()\n",
    "    plt.show()\n",
    "    References\n",
    "    ----------\n",
    "    .. [1] A. Savitzky, M. J. E. Golay, Smoothing and Differentiation of\n",
    "       Data by Simplified Least Squares Procedures. Analytical\n",
    "       Chemistry, 1964, 36 (8), pp 1627-1639.\n",
    "    .. [2] Numerical Recipes 3rd Edition: The Art of Scientific Computing\n",
    "       W.H. Press, S.A. Teukolsky, W.T. Vetterling, B.P. Flannery\n",
    "       Cambridge University Press ISBN-13: 9780521880688\n",
    "    \"\"\"\n",
    "    import numpy as np\n",
    "    from math import factorial\n",
    "    \n",
    "    try:\n",
    "        window_size = np.abs(np.int(window_size))\n",
    "        order = np.abs(np.int(order))\n",
    "    except ValueError:\n",
    "        raise ValueError(\"window_size and order have to be of type int\")\n",
    "    if window_size % 2 != 1 or window_size < 1:\n",
    "        raise TypeError(\"window_size size must be a positive odd number\")\n",
    "    if window_size < order + 2:\n",
    "        raise TypeError(\"window_size is too small for the polynomials order\")\n",
    "    order_range = range(order+1)\n",
    "    half_window = (window_size -1) // 2\n",
    "    # precompute coefficients\n",
    "    b = np.mat([[k**i for i in order_range] for k in range(-half_window, half_window+1)])\n",
    "    m = np.linalg.pinv(b).A[deriv] * rate**deriv * factorial(deriv)\n",
    "    # pad the signal at the extremes with\n",
    "    # values taken from the signal itself\n",
    "    firstvals = y[0] - np.abs( y[1:half_window+1][::-1] - y[0] )\n",
    "    lastvals = y[-1] + np.abs(y[-half_window-1:-1][::-1] - y[-1])\n",
    "    y = np.concatenate((firstvals, y, lastvals))\n",
    "    return np.convolve( m[::-1], y, mode='valid')"
   ]
  },
  {
   "cell_type": "code",
   "execution_count": 2,
   "metadata": {
    "collapsed": false
   },
   "outputs": [],
   "source": [
    "import numpy as np\n",
    "import lmfit as lmf\n",
    "import matplotlib.pyplot as plt\n",
    "from matplotlib.pyplot import cm \n",
    "import os\n",
    "import matplotlib as mpl\n",
    "from matplotlib.ticker import MaxNLocator\n",
    "%matplotlib inline\n",
    "\n",
    "#to make fonts from plots look normal\n",
    "mpl.rcParams['mathtext.fontset'] = 'custom'\n",
    "mpl.rcParams['mathtext.rm'] = 'Calibri'\n",
    "mpl.rcParams['mathtext.it'] = 'Calibri:italic'\n",
    "mpl.rcParams['mathtext.bf'] = 'Calibri:bold'\n",
    "\n",
    "font = {'family' : 'Calibri',\n",
    "        'weight' : 'normal',\n",
    "        'size'   : 36}\n",
    "        #'sans-serif' : 'Arial Unicode MS'}\n",
    "mpl.rc('font', **font)\n",
    "plt.rc('font', size=36)          # controls default text sizes\n",
    "\n",
    "#mpl.rcParams.update({'figure.autolayout': True})\n",
    "mpl.rcParams['xtick.major.size'] = 10\n",
    "mpl.rcParams['xtick.major.width'] = 1.5\n",
    "mpl.rcParams['xtick.minor.size'] = 4\n",
    "mpl.rcParams['xtick.minor.width'] = 1.5\n",
    "mpl.rcParams['ytick.major.size'] = 10\n",
    "mpl.rcParams['ytick.major.width'] = 1.5\n",
    "mpl.rcParams['ytick.minor.size'] = 4\n",
    "mpl.rcParams['ytick.minor.width'] = 1.5\n",
    "mpl.rcParams['axes.linewidth'] = 1.5 #set the value globally\n",
    "mpl.rcParams['lines.markersize'] = 16\n",
    "mpl.rcParams['lines.linewidth'] = 4\n",
    "mpl.rcParams['xtick.direction'] = 'in'\n",
    "mpl.rcParams['ytick.direction'] = 'in'\n",
    "#mpl.rcParams['xtick.top'] = False\n",
    "#mpl.rcParams['ytick.right'] = False\n",
    "\n"
   ]
  },
  {
   "cell_type": "code",
   "execution_count": 3,
   "metadata": {
    "collapsed": false
   },
   "outputs": [
    {
     "name": "stdout",
     "output_type": "stream",
     "text": [
      "395301558.617574\n",
      "2.5297142857142857e-09\n"
     ]
    }
   ],
   "source": [
    "# PbS capacitance\n",
    "\n",
    "# area in cm^2\n",
    "area = 4e-2\n",
    "\n",
    "eps0 = 8.854e-14\n",
    "\n",
    "# MPA params (t = thickness in cm)\n",
    "eps1 = 10\n",
    "t1 = 4.0e-6\n",
    "\n",
    "# TBAI params (t = thickness in cm)\n",
    "eps2 = 18\n",
    "t2 = 1.80e-5\n",
    "\n",
    "Ct_inv = t1/(eps1*eps0*area) + t2/(eps2*eps0*area) \n",
    "print(Ct_inv)\n",
    "\n",
    "Ct = 1/Ct_inv\n",
    "\n",
    "print(Ct)"
   ]
  },
  {
   "cell_type": "code",
   "execution_count": 26,
   "metadata": {
    "collapsed": false
   },
   "outputs": [
    {
     "name": "stdout",
     "output_type": "stream",
     "text": [
      "86.3170405982906\n",
      "3.7952876712328766e-06\n"
     ]
    }
   ],
   "source": [
    "# ZnO capacitance\n",
    "\n",
    "# total freeze out capacitance in F\n",
    "Ctot = 1.46e-9\n",
    "\n",
    "Cz_inv = (1/Ctot) - (1/Ct)\n",
    "\n",
    "Cz = 1/Cz_inv\n",
    "print((Cz*1e9)/4e-2)\n",
    "\n",
    "#ZnO params \n",
    "eps3 = 3.7\n",
    "\n",
    "# solve for ZnO depletion thickness \n",
    "t3 = (eps3*eps0*area)/Cz\n",
    "print(t3)"
   ]
  },
  {
   "cell_type": "code",
   "execution_count": 5,
   "metadata": {
    "collapsed": false
   },
   "outputs": [
    {
     "name": "stdout",
     "output_type": "stream",
     "text": [
      "3.5415999999999994e-09\n",
      "8.854e-09\n",
      "221.34999999999997\n",
      "88.53999999999998\n"
     ]
    }
   ],
   "source": [
    "# TBAI only capacitance\n",
    "Ct2= (eps2*eps0*area)/t2\n",
    "print(Ct2)\n",
    "\n",
    "# MPA only capacitance\n",
    "Ct1 = (eps1*eps0*area)/t1\n",
    "print(Ct1)\n",
    "\n",
    "print((Ct1*1e9)/area)\n",
    "print((Ct2*1e9)/area)\n"
   ]
  },
  {
   "cell_type": "code",
   "execution_count": 6,
   "metadata": {
    "collapsed": false
   },
   "outputs": [
    {
     "name": "stdout",
     "output_type": "stream",
     "text": [
      "1.5937199999999997e-05\n",
      "3.5415999999999994e-09\n",
      "88.53999999999998\n"
     ]
    }
   ],
   "source": [
    "# solve for depletion capacitance assuming C_{if} is PbS depletion in TBAI\n",
    "Cd = 100*1e-9*area\n",
    "# print(Cd)\n",
    "\n",
    "# solve for depletion capacitance PbS, assuming it drops across TBAI\n",
    "d2 = (eps2*eps0*area)/Cd\n",
    "print(d2)\n",
    "\n",
    "# calculate what capacitance would be for fully depleted TBAI layer\n",
    "Cd_full = (eps2*eps0*area)/1.8e-5\n",
    "print(Cd_full)\n",
    "\n",
    "print((Cd_full*1e9)/4e-2)"
   ]
  },
  {
   "cell_type": "code",
   "execution_count": 7,
   "metadata": {
    "collapsed": false
   },
   "outputs": [
    {
     "name": "stdout",
     "output_type": "stream",
     "text": [
      "1.2297222222222221e-05\n"
     ]
    }
   ],
   "source": [
    "# solve for d2 depletion width\n",
    "\n",
    "#max capacitance on d2 \n",
    "Cd2_max = 72*4e-2*1e-9\n",
    "\n",
    "d2_d = (eps0*eps1*area)/Cd2_max\n",
    "\n",
    "print(d2_d)\n"
   ]
  },
  {
   "cell_type": "code",
   "execution_count": 8,
   "metadata": {
    "collapsed": false
   },
   "outputs": [
    {
     "name": "stderr",
     "output_type": "stream",
     "text": [
      "C:\\Program Files\\Anaconda3\\lib\\site-packages\\matplotlib\\font_manager.py:1288: UserWarning: findfont: Font family ['cursive'] not found. Falling back to Bitstream Vera Sans\n",
      "  (prop.get_family(), self.defaultFamily[fontext]))\n"
     ]
    },
    {
     "data": {
      "image/png": "[encoded data removed]",
      "text/plain": [
       "<matplotlib.figure.Figure at 0x260f2d76c18>"
      ]
     },
     "metadata": {},
     "output_type": "display_data"
    }
   ],
   "source": [
    "# run a very simple simulation of capacitance\n",
    "\n",
    "figDir = r'C:\\Users\\Eric\\Desktop\\Lab_Work\\admittance\\ligand_and_interface\\ligand_manuscript\\currentVersion\\TBAI\\TAS\\impedanceCalcs'\n",
    "\n",
    "# frequency array\n",
    "w = np.logspace(2,7,200)\n",
    "\n",
    "# depletion capacitance of tbai before freeze-out in nanofarads/cm^2\n",
    "# Cp1 = (4e-9*1e9)/4e-2\n",
    "Cp1 = 4e-9\n",
    "# print(Cp1)\n",
    "\n",
    "# geometric capacitance of tbai and mpa after freeze-out in nanofarads/cm^2\n",
    "# Cp2 = (Ct*1e9)/4e-2\n",
    "Cp2 = Ct\n",
    "# print(Cp2)\n",
    "\n",
    "# depletion capacitance of ZnO\n",
    "# Cz1 = (Cz*1e9)/4e-2\n",
    "Cz1 = Cz\n",
    "\n",
    "# print(Cz1)\n",
    "\n",
    "# freeze-out frequency (approximate) in rad/s\n",
    "omegaD = 3.4e5\n",
    "\n",
    "Zi = np.zeros(len(w))\n",
    "omegaD_idx = np.where(w >=omegaD)[0][0]\n",
    "\n",
    "Z1 = np.zeros(len(w))\n",
    "Z2 = np.zeros(len(w))\n",
    "\n",
    "for freq in range(0,len(w)):\n",
    "    Z2[freq] = np.imag(1/(1j*w[freq]*Cz))\n",
    "    \n",
    "    if freq < omegaD_idx:\n",
    "        Z1[freq] = np.imag(1/(1j*w[freq]*Cp1))\n",
    "    elif freq >= omegaD_idx:\n",
    "        Z1[freq] = np.imag(1/(1j*w[freq]*Cp2))\n",
    "\n",
    "Zi = Z1+ Z2\n",
    "        \n",
    "fig,ax = plt.subplots(1,1, figsize = (8,7))\n",
    "for freq in range(0,len(w)):\n",
    "    ax.plot(w[freq],-Z1[freq],'s',markersize = 15,c = 'g')\n",
    "    ax.plot(w[freq],-Z2[freq],'s',markersize = 15,c = 'b')\n",
    "#     ax.plot(w[freq],-Zi[freq],'o',markersize = 10)\n",
    "    \n",
    "# ax.plot(w[omegaD_idx],-Zi[omegaD_idx],'o',markersize = 30)\n",
    "ax.set_xlabel(\"$\\\\omega$ (rad/s)\")\n",
    "ax.set_ylabel(\"$-Z_{i}$ ($\\\\Omega$)\")\n",
    "ax.set_xscale('log')\n",
    "ax.set_yscale('log')\n",
    "# figName = '\\\\ZiCalc.png'\n",
    "# plt.savefig(figDir + figName,dpi = 300,bbox_inches = 'tight')\n",
    "    "
   ]
  },
  {
   "cell_type": "code",
   "execution_count": 9,
   "metadata": {
    "collapsed": false
   },
   "outputs": [
    {
     "name": "stdout",
     "output_type": "stream",
     "text": [
      "1.568e-05\n"
     ]
    }
   ],
   "source": [
    "# assume Ct drops only across TBAI. how large is the depletion region?\n",
    "\n",
    "epsTest = 11.2\n",
    "\n",
    "Dtest1 = (epsTest*eps0*4e-2)/(Ct)\n",
    "print(Dtest1)\n",
    "\n",
    "# 250 nm....clearly not only ZnO"
   ]
  },
  {
   "cell_type": "code",
   "execution_count": 10,
   "metadata": {
    "collapsed": false
   },
   "outputs": [
    {
     "data": {
      "text/plain": [
       "86.25"
      ]
     },
     "execution_count": 10,
     "metadata": {},
     "output_type": "execute_result"
    }
   ],
   "source": [
    "3.45/4e-2"
   ]
  },
  {
   "cell_type": "code",
   "execution_count": 11,
   "metadata": {
    "collapsed": false
   },
   "outputs": [
    {
     "name": "stdout",
     "output_type": "stream",
     "text": [
      "4e-09\n",
      "3.452681623931624e-09\n",
      "2.1249599999999997e-08\n",
      "531.2399999999999\n",
      "2.9700942023435707e-09\n",
      "74.25235505858927\n"
     ]
    }
   ],
   "source": [
    "# solve for TBAI depletion layer assuming C_{D} has both ZnO and PbS contributions\n",
    "print(Cd)\n",
    "print(Cz)\n",
    "\n",
    "Cpbs2_inv = 3.0e-6/(eps2*eps0*area)\n",
    "\n",
    "Cpbs2 = 1/Cpbs2_inv\n",
    "print(Cpbs2)\n",
    "print((Cpbs2*1e9)/4e-2)\n",
    "\n",
    "Ctest_inv = Cpbs2_inv + 1/Cz\n",
    "\n",
    "Ctest = 1/Ctest_inv\n",
    "print(Ctest)\n",
    "\n",
    "print((Ctest*1e9)/4e-2)"
   ]
  },
  {
   "cell_type": "code",
   "execution_count": 12,
   "metadata": {
    "collapsed": false
   },
   "outputs": [
    {
     "name": "stdout",
     "output_type": "stream",
     "text": [
      "18\n"
     ]
    }
   ],
   "source": [
    "print(eps2)"
   ]
  },
  {
   "cell_type": "code",
   "execution_count": 13,
   "metadata": {
    "collapsed": false
   },
   "outputs": [
    {
     "name": "stdout",
     "output_type": "stream",
     "text": [
      "2.8565697372666196e+16\n"
     ]
    }
   ],
   "source": [
    "q = 1.602e-19\n",
    "eps0b = 8.854e-12\n",
    "kBj = 1.38e-23\n",
    "LdT = 30e-9\n",
    "\n",
    "Nd_test = (eps2*eps0b*kBj*300)/((q**2)*(LdT**2))\n",
    "print(Nd_test*1e-6)"
   ]
  },
  {
   "cell_type": "code",
   "execution_count": 14,
   "metadata": {
    "collapsed": false
   },
   "outputs": [
    {
     "name": "stdout",
     "output_type": "stream",
     "text": [
      "1.541688029020558e-08\n",
      "385.42200725513953\n",
      "2.2972222222222192e-06\n"
     ]
    }
   ],
   "source": [
    "#assume maximal capacitance is due to TBAI and small MPA depletion region. what do we get?\n",
    "\n",
    "#maximal ow frequency day 2 capacitance in F \n",
    "Cd2 = (72*1e-9)*4e-2\n",
    "# print(Cd2)\n",
    "# print()\n",
    "\n",
    "Ct2_inv = (1/Cd2) - t2/(eps2*eps0*area) \n",
    "# print(Ct_inv)\n",
    "\n",
    "Ct2 = 1/Ct2_inv\n",
    "print(Ct2)\n",
    "print((Ct2*1e9)/4e-2)\n",
    "\n",
    "t1_est = (eps0*eps1*area)/Ct2\n",
    "print(t1_est)\n",
    "\n",
    "# print(((1/(t2/(eps2*eps0*area)))*1e9)/4e-2)\n",
    "\n",
    "\n",
    "# print(((1/(t1/(eps1*eps0*area)))*1e9)/4e-2)\n",
    "\n",
    "# we get a 23 nm depletion region in MPA. Fair enough. \n"
   ]
  },
  {
   "cell_type": "code",
   "execution_count": 15,
   "metadata": {
    "collapsed": false
   },
   "outputs": [
    {
     "name": "stdout",
     "output_type": "stream",
     "text": [
      "3.5415999999999994e-09\n",
      "39.25557791878044\n",
      "1.541688029020558e-08\n",
      "3.452681623931624e-09\n",
      "3.5415999999999994e-09\n"
     ]
    }
   ],
   "source": [
    "# solve for full TBAI depletion\n",
    "Ctb = (eps2*eps0*area)/1.8e-5\n",
    "print(Ctb)\n",
    "\n",
    "\n",
    "# assume a 23 nm MPA capacitance. just to check, what's the total capacitance?\n",
    "\n",
    "Call_inv = Ct2_inv + Cz_inv + (1/Ctb)\n",
    "Call = 1/Call_inv\n",
    "\n",
    "print((Call*1e9)/4e-2)\n",
    "\n",
    "print(Ct2)\n",
    "print(Cz)\n",
    "print(Ctb)\n",
    "\n"
   ]
  },
  {
   "cell_type": "code",
   "execution_count": 16,
   "metadata": {
    "collapsed": false
   },
   "outputs": [
    {
     "name": "stdout",
     "output_type": "stream",
     "text": [
      "43.70719502299161\n"
     ]
    }
   ],
   "source": [
    "# now assume 40 nm ZnO and 180 nm of TBAI frozen out. what do we get? \n",
    "\n",
    "\n",
    "Call_inv2 = Cz_inv + (1/Ctb)\n",
    "Call2 = 1/Call_inv2\n",
    "\n",
    "print((Call2*1e9)/4e-2)\n",
    "\n",
    "#this is precisly where cusp is. so, seems like this where depletion in TBAI/ZnO cuts out, and we see only 23 nm of depletion\n",
    "# in MPA. Note, adding the extra depletion of MPA gives us the extra bit"
   ]
  },
  {
   "cell_type": "code",
   "execution_count": 22,
   "metadata": {
    "collapsed": false
   },
   "outputs": [
    {
     "name": "stdout",
     "output_type": "stream",
     "text": [
      "1.7482878009196645e-09\n",
      "10.860156883959968\n",
      "8.854e-14\n",
      "0.04\n"
     ]
    }
   ],
   "source": [
    "# solve for equivalent epsilon to use in DLCP calculations for day 2 \n",
    "\n",
    "print(Call2)\n",
    "eps_equiv = (2.2e-5*Call2)/(eps0*area)\n",
    "print(eps_equiv)\n"
   ]
  },
  {
   "cell_type": "code",
   "execution_count": 23,
   "metadata": {
    "collapsed": false
   },
   "outputs": [
    {
     "data": {
      "text/plain": [
       "0.003819718634205488"
      ]
     },
     "execution_count": 23,
     "metadata": {},
     "output_type": "execute_result"
    }
   ],
   "source": [
    "270e-6/(np.pi*.15**2)"
   ]
  },
  {
   "cell_type": "code",
   "execution_count": 24,
   "metadata": {
    "collapsed": false
   },
   "outputs": [
    {
     "data": {
      "text/plain": [
       "4.75"
      ]
     },
     "execution_count": 24,
     "metadata": {},
     "output_type": "execute_result"
    }
   ],
   "source": [
    "(750/600) * 3.8"
   ]
  },
  {
   "cell_type": "code",
   "execution_count": 25,
   "metadata": {
    "collapsed": false
   },
   "outputs": [
    {
     "data": {
      "text/plain": [
       "5.699999999999999"
      ]
     },
     "execution_count": 25,
     "metadata": {},
     "output_type": "execute_result"
    }
   ],
   "source": [
    "(900/600) * 3.8"
   ]
  },
  {
   "cell_type": "code",
   "execution_count": 29,
   "metadata": {
    "collapsed": false
   },
   "outputs": [],
   "source": [
    "fmpa = 2.6e6/(2*np.pi)"
   ]
  },
  {
   "cell_type": "code",
   "execution_count": 30,
   "metadata": {
    "collapsed": false
   },
   "outputs": [
    {
     "data": {
      "text/plain": [
       "1.602e-19"
      ]
     },
     "execution_count": 30,
     "metadata": {},
     "output_type": "execute_result"
    }
   ],
   "source": [
    "q"
   ]
  },
  {
   "cell_type": "code",
   "execution_count": 33,
   "metadata": {
    "collapsed": false
   },
   "outputs": [
    {
     "data": {
      "text/plain": [
       "8.854e-14"
      ]
     },
     "execution_count": 33,
     "metadata": {},
     "output_type": "execute_result"
    }
   ],
   "source": [
    "eps0"
   ]
  },
  {
   "cell_type": "code",
   "execution_count": 35,
   "metadata": {
    "collapsed": false
   },
   "outputs": [
    {
     "data": {
      "text/plain": [
       "0.00015567270079067832"
      ]
     },
     "execution_count": 35,
     "metadata": {},
     "output_type": "execute_result"
    }
   ],
   "source": [
    "# estimate mobility in MPA via freeze out at RT \n",
    "\n",
    "# (eps1*eps0*4*fmpa)/(q*1e17*2)\n",
    "(eps1*eps0*260*2.6e6)/(q*1e17*240)"
   ]
  }
 ],
 "metadata": {
  "anaconda-cloud": {},
  "kernelspec": {
   "display_name": "Python [default]",
   "language": "python",
   "name": "python3"
  },
  "language_info": {
   "codemirror_mode": {
    "name": "ipython",
    "version": 3
   },
   "file_extension": ".py",
   "mimetype": "text/x-python",
   "name": "python",
   "nbconvert_exporter": "python",
   "pygments_lexer": "ipython3",
   "version": "3.5.2"
  }
 },
 "nbformat": 4,
 "nbformat_minor": 1
}
