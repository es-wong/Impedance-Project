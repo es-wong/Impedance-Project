{
 "cells": [
  {
   "cell_type": "markdown",
   "metadata": {},
   "source": [
    "# MPA Capacitance Calcs # \n",
    "\n",
    "This script calculates the depletion widths and dominant contributions to junction capacitance\n",
    "\n"
   ]
  },
  {
   "cell_type": "code",
   "execution_count": 1,
   "metadata": {
    "collapsed": true
   },
   "outputs": [],
   "source": [
    "def savitzky_golay(y, window_size, order, deriv=0, rate=1):\n",
    "    r\"\"\"Smooth (and optionally differentiate) data with a Savitzky-Golay filter.\n",
    "    The Savitzky-Golay filter removes high frequency noise from data.\n",
    "    It has the advantage of preserving the original shape and\n",
    "    features of the signal better than other types of filtering\n",
    "    approaches, such as moving averages techniques.\n",
    "    Parameters\n",
    "    ----------\n",
    "    y : array_like, shape (N,)\n",
    "        the values of the time history of the signal.\n",
    "    window_size : int\n",
    "        the length of the window. Must be an odd integer number.\n",
    "    order : int\n",
    "        the order of the polynomial used in the filtering.\n",
    "        Must be less then `window_size` - 1.\n",
    "    deriv: int\n",
    "        the order of the derivative to compute (default = 0 means only smoothing)\n",
    "    Returns\n",
    "    -------\n",
    "    ys : ndarray, shape (N)\n",
    "        the smoothed signal (or it's n-th derivative).\n",
    "    Notes\n",
    "    -----\n",
    "    The Savitzky-Golay is a type of low-pass filter, particularly\n",
    "    suited for smoothing noisy data. The main idea behind this\n",
    "    approach is to make for each point a least-square fit with a\n",
    "    polynomial of high order over a odd-sized window centered at\n",
    "    the point.\n",
    "    Examples\n",
    "    --------\n",
    "    t = np.linspace(-4, 4, 500)\n",
    "    y = np.exp( -t**2 ) + np.random.normal(0, 0.05, t.shape)\n",
    "    ysg = savitzky_golay(y, window_size=31, order=4)\n",
    "    import matplotlib.pyplot as plt\n",
    "    plt.plot(t, y, label='Noisy signal')\n",
    "    plt.plot(t, np.exp(-t**2), 'k', lw=1.5, label='Original signal')\n",
    "    plt.plot(t, ysg, 'r', label='Filtered signal')\n",
    "    plt.legend()\n",
    "    plt.show()\n",
    "    References\n",
    "    ----------\n",
    "    .. [1] A. Savitzky, M. J. E. Golay, Smoothing and Differentiation of\n",
    "       Data by Simplified Least Squares Procedures. Analytical\n",
    "       Chemistry, 1964, 36 (8), pp 1627-1639.\n",
    "    .. [2] Numerical Recipes 3rd Edition: The Art of Scientific Computing\n",
    "       W.H. Press, S.A. Teukolsky, W.T. Vetterling, B.P. Flannery\n",
    "       Cambridge University Press ISBN-13: 9780521880688\n",
    "    \"\"\"\n",
    "    import numpy as np\n",
    "    from math import factorial\n",
    "    \n",
    "    try:\n",
    "        window_size = np.abs(np.int(window_size))\n",
    "        order = np.abs(np.int(order))\n",
    "    except ValueError:\n",
    "        raise ValueError(\"window_size and order have to be of type int\")\n",
    "    if window_size % 2 != 1 or window_size < 1:\n",
    "        raise TypeError(\"window_size size must be a positive odd number\")\n",
    "    if window_size < order + 2:\n",
    "        raise TypeError(\"window_size is too small for the polynomials order\")\n",
    "    order_range = range(order+1)\n",
    "    half_window = (window_size -1) // 2\n",
    "    # precompute coefficients\n",
    "    b = np.mat([[k**i for i in order_range] for k in range(-half_window, half_window+1)])\n",
    "    m = np.linalg.pinv(b).A[deriv] * rate**deriv * factorial(deriv)\n",
    "    # pad the signal at the extremes with\n",
    "    # values taken from the signal itself\n",
    "    firstvals = y[0] - np.abs( y[1:half_window+1][::-1] - y[0] )\n",
    "    lastvals = y[-1] + np.abs(y[-half_window-1:-1][::-1] - y[-1])\n",
    "    y = np.concatenate((firstvals, y, lastvals))\n",
    "    return np.convolve( m[::-1], y, mode='valid')"
   ]
  },
  {
   "cell_type": "code",
   "execution_count": 2,
   "metadata": {
    "collapsed": false
   },
   "outputs": [],
   "source": [
    "import numpy as np\n",
    "import lmfit as lmf\n",
    "import matplotlib.pyplot as plt\n",
    "from matplotlib.pyplot import cm \n",
    "import os\n",
    "import matplotlib as mpl\n",
    "from matplotlib.ticker import MaxNLocator\n",
    "%matplotlib inline\n",
    "\n",
    "#to make fonts from plots look normal\n",
    "mpl.rcParams['mathtext.fontset'] = 'custom'\n",
    "mpl.rcParams['mathtext.rm'] = 'Calibri'\n",
    "mpl.rcParams['mathtext.it'] = 'Calibri:italic'\n",
    "mpl.rcParams['mathtext.bf'] = 'Calibri:bold'\n",
    "\n",
    "font = {'family' : 'Calibri',\n",
    "        'weight' : 'normal',\n",
    "        'size'   : 36}\n",
    "        #'sans-serif' : 'Arial Unicode MS'}\n",
    "mpl.rc('font', **font)\n",
    "plt.rc('font', size=36)          # controls default text sizes\n",
    "\n",
    "#mpl.rcParams.update({'figure.autolayout': True})\n",
    "mpl.rcParams['xtick.major.size'] = 10\n",
    "mpl.rcParams['xtick.major.width'] = 1.5\n",
    "mpl.rcParams['xtick.minor.size'] = 4\n",
    "mpl.rcParams['xtick.minor.width'] = 1.5\n",
    "mpl.rcParams['ytick.major.size'] = 10\n",
    "mpl.rcParams['ytick.major.width'] = 1.5\n",
    "mpl.rcParams['ytick.minor.size'] = 4\n",
    "mpl.rcParams['ytick.minor.width'] = 1.5\n",
    "mpl.rcParams['axes.linewidth'] = 1.5 #set the value globally\n",
    "mpl.rcParams['lines.markersize'] = 16\n",
    "mpl.rcParams['lines.linewidth'] = 4\n",
    "mpl.rcParams['xtick.direction'] = 'in'\n",
    "mpl.rcParams['ytick.direction'] = 'in'\n",
    "#mpl.rcParams['xtick.top'] = False\n",
    "#mpl.rcParams['ytick.right'] = False\n",
    "\n"
   ]
  },
  {
   "cell_type": "code",
   "execution_count": 3,
   "metadata": {
    "collapsed": false
   },
   "outputs": [
    {
     "name": "stdout",
     "output_type": "stream",
     "text": [
      "1.8639999999999998e-09\n",
      "46.59999999999999\n"
     ]
    }
   ],
   "source": [
    "# PbS capacitance at full depletion\n",
    "\n",
    "# area in cm^2\n",
    "area = 4e-2\n",
    "\n",
    "eps0 = 8.854e-14\n",
    "\n",
    "# MPA params (t = thickness in cm)\n",
    "eps1 = 10\n",
    "t1 = 1.90e-5\n",
    "\n",
    "Cp = (eps1*eps0*area)/t1 \n",
    "\n",
    "print(Cp)\n",
    "print((Cp*1e9)/4e-2)"
   ]
  },
  {
   "cell_type": "code",
   "execution_count": 4,
   "metadata": {
    "collapsed": false
   },
   "outputs": [
    {
     "name": "stdout",
     "output_type": "stream",
     "text": [
      "3.368674698795183e-09\n",
      "84.21686746987957\n",
      "3.889933333333331e-06\n"
     ]
    }
   ],
   "source": [
    "# ZnO capacitance\n",
    "\n",
    "# solve for ZnO capaciance\n",
    "Ctot = (30*1e-9*4e-2)\n",
    "\n",
    "Cz_inv = 1/Ctot - 1/Cp\n",
    "\n",
    "Cz = 1/Cz_inv\n",
    "print(Cz)\n",
    "print((Cz*1e9)/(4e-2))\n",
    "\n",
    "#ZnO params \n",
    "eps3 = 3.7\n",
    "# solve for ZnO depletion thickness \n",
    "t3 = (eps3*eps0*area)/Cz\n",
    "print(t3)"
   ]
  },
  {
   "cell_type": "code",
   "execution_count": 5,
   "metadata": {
    "collapsed": false
   },
   "outputs": [
    {
     "name": "stdout",
     "output_type": "stream",
     "text": [
      "5.4e-09\n",
      "6.558518518518518e-06\n"
     ]
    }
   ],
   "source": [
    "# solve for depletion capacitance assuming C_{if} is PbS depletion in MPA\n",
    "Cd = 135*1e-9*area\n",
    "print(Cd)\n",
    "d = (eps1*eps0*area)/Cd\n",
    "print(d)\n"
   ]
  },
  {
   "cell_type": "code",
   "execution_count": 6,
   "metadata": {
    "collapsed": false
   },
   "outputs": [
    {
     "name": "stdout",
     "output_type": "stream",
     "text": [
      "135.0\n"
     ]
    }
   ],
   "source": [
    "Cpd = (eps1*eps0*area)/d\n",
    "print((Cpd*1e9)/4e-2)"
   ]
  },
  {
   "cell_type": "code",
   "execution_count": 7,
   "metadata": {
    "collapsed": false
   },
   "outputs": [
    {
     "name": "stdout",
     "output_type": "stream",
     "text": [
      "-8.955160142348767e-09\n"
     ]
    }
   ],
   "source": [
    "# now try a different calculation. assume Cd is made up of both PbS and ZnO contributions. what do we get?\n",
    "\n",
    "Cp2_inv = (1/Cd) - (1/Cz)\n",
    "\n",
    "Cp2 = 1/Cp2_inv\n",
    "print(Cp2)"
   ]
  },
  {
   "cell_type": "code",
   "execution_count": 8,
   "metadata": {
    "collapsed": false
   },
   "outputs": [
    {
     "name": "stderr",
     "output_type": "stream",
     "text": [
      "C:\\Program Files\\Anaconda3\\lib\\site-packages\\matplotlib\\font_manager.py:1288: UserWarning: findfont: Font family ['cursive'] not found. Falling back to Bitstream Vera Sans\n",
      "  (prop.get_family(), self.defaultFamily[fontext]))\n"
     ]
    },
    {
     "data": {
      "image/png": "[encoded data removed]",
      "text/plain": [
       "<matplotlib.figure.Figure at 0x24552b02dd8>"
      ]
     },
     "metadata": {},
     "output_type": "display_data"
    }
   ],
   "source": [
    "# run a very simple simulation of capacitance\n",
    "\n",
    "figDir = r'C:\\Users\\Eric\\Desktop\\Lab_Work\\admittance\\ligand_and_interface\\ligand_manuscript\\currentVersion\\MPA\\capacitance\\impedance_calc'\n",
    "\n",
    "\n",
    "# frequency array\n",
    "w = np.logspace(2,7,200)\n",
    "\n",
    "# depletion capacitance of tbai before freeze-out in nanofarads/cm^2\n",
    "# Cp1 = (4e-9*1e9)/4e-2\n",
    "Cp1 = Cd\n",
    "# print(Cp1)\n",
    "\n",
    "# geometric capacitance of mpa after freeze-out in nanofarads/cm^2\n",
    "# Cp2 = (Ct*1e9)/4e-2\n",
    "Cp2 = Cp\n",
    "# print(Cp2)\n",
    "\n",
    "# depletion capacitance of ZnO\n",
    "# Cz1 = (Cz*1e9)/4e-2\n",
    "Cz1 = Cz\n",
    "\n",
    "# print(Cz1)\n",
    "\n",
    "# freeze-out frequency (approximate) in rad/s\n",
    "omegaD = 7.4e4\n",
    "\n",
    "Zi = np.zeros(len(w))\n",
    "omegaD_idx = np.where(w >=omegaD)[0][0]\n",
    "\n",
    "Z1 = np.zeros(len(w))\n",
    "Z2 = np.zeros(len(w))\n",
    "\n",
    "for freq in range(0,len(w)):\n",
    "    Z2[freq] = np.imag(1/(1j*w[freq]*Cz1))\n",
    "    \n",
    "    if freq < omegaD_idx:\n",
    "        Z1[freq] = np.imag(1/(1j*w[freq]*Cp1))\n",
    "    elif freq >= omegaD_idx:\n",
    "        Z1[freq] = np.imag(1/(1j*w[freq]*Cp2))\n",
    "\n",
    "Zi = Z1+ Z2\n",
    "        \n",
    "fig,ax = plt.subplots(1,1, figsize = (8,7))\n",
    "for freq in range(0,len(w)):\n",
    "    ax.plot(w[freq],-Z1[freq],'s',markersize = 15,c = 'r')\n",
    "    ax.plot(w[freq],-Z2[freq],'s',markersize = 15,c = 'b')\n",
    "#     ax.plot(w[freq],-Zi[freq],'o',markersize = 10)\n",
    "    \n",
    "# ax.plot(w[omegaD_idx],-Zi[omegaD_idx],'o',markersize = 30)\n",
    "ax.set_xlabel(\"$\\\\omega$ (rad/s)\")\n",
    "ax.set_ylabel(\"$-Z_{i}$ ($\\\\Omega$)\")\n",
    "ax.set_xscale('log')\n",
    "ax.set_yscale('log')\n",
    "# figName = '\\\\ZiCalc.png'\n",
    "# plt.savefig(figDir + figName,dpi = 300,bbox_inches = 'tight')\n",
    "    \n",
    "# print(Zi)"
   ]
  },
  {
   "cell_type": "code",
   "execution_count": 9,
   "metadata": {
    "collapsed": false
   },
   "outputs": [
    {
     "name": "stdout",
     "output_type": "stream",
     "text": [
      "5.13598974321e-09\n"
     ]
    }
   ],
   "source": [
    "# calculate debye length in ZnO given the detected carrier densities.\n",
    "\n",
    "NdT = 2e23\n",
    "kBj = 1.38e-23\n",
    "q = 1.603e-19\n",
    "eps0m = 8.85e-12\n",
    "\n",
    "\n",
    "LT = np.sqrt(  (eps3*eps0m*kBj*300)/((q**2)*NdT) )\n",
    "print(LT)"
   ]
  },
  {
   "cell_type": "code",
   "execution_count": 19,
   "metadata": {
    "collapsed": false
   },
   "outputs": [
    {
     "data": {
      "text/plain": [
       "0.6463043478260869"
      ]
     },
     "execution_count": 19,
     "metadata": {},
     "output_type": "execute_result"
    }
   ],
   "source": [
    "46+84\n",
    "\n",
    "46/130\n",
    "\n",
    "(84*46)/130\n",
    "\n",
    "29.73/84\n",
    "\n",
    "29.73/46"
   ]
  }
 ],
 "metadata": {
  "anaconda-cloud": {},
  "kernelspec": {
   "display_name": "Python [default]",
   "language": "python",
   "name": "python3"
  },
  "language_info": {
   "codemirror_mode": {
    "name": "ipython",
    "version": 3
   },
   "file_extension": ".py",
   "mimetype": "text/x-python",
   "name": "python",
   "nbconvert_exporter": "python",
   "pygments_lexer": "ipython3",
   "version": "3.5.2"
  }
 },
 "nbformat": 4,
 "nbformat_minor": 1
}
