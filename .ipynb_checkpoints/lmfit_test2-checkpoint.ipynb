{
 "cells": [
  {
   "cell_type": "markdown",
   "metadata": {},
   "source": [
    "## 3/2/18 just needed another copy of this to try some different things/maybe clean stuff up"
   ]
  },
  {
   "cell_type": "code",
   "execution_count": 1,
   "metadata": {},
   "outputs": [],
   "source": [
    "import numpy as np\n",
    "import lmfit as lmf\n",
    "import matplotlib.pyplot as plt\n",
    "%matplotlib inline\n",
    "\n",
    "\n",
    "\n",
    "importdata = np.genfromtxt('IS400.csv',delimiter=',');  #read in data that i output from matlab. input format has each\n",
    "                                                        #of the 16 Temperature data sets stacked vertically. \n",
    "npoints = 101; #each T has 101 points\n",
    "IS400 = np.zeros((16,npoints,5)) #Initialize new 3d array to hold data. note: first index is what we would traditionally \n",
    "                            #think of as the last index. it makes sense though when you think hierarchically,\n",
    "                            #i.e. main list has 16 elements each of which has 101 smaller elements containing 5 elemnts. \n",
    "for i in range(0,16):\n",
    "    IS400[i,:,:]=importdata[(npoints*i):(npoints*(i+1)) , :] #slice the data into subarrays  \n",
    "    \n",
    "## Function definitions\n",
    "\n",
    "def Zr(T): #pulls out Z'\n",
    "    return IS400[T,:,3]\n",
    "def Zi(T): #pulls out Z''\n",
    "    return IS400[T,:,4]\n",
    "def w(T): #pulls out omega\n",
    "    return IS400[T,:,0]\n",
    "\n",
    "def absorb_model1(w,Rw,wk,wd):\n",
    "    return np.sqrt(Rw*(wd*Rw/wk)/(1+1j*(w/wk)))*np.tanh(np.sqrt((wk/wd)*(1+1j*w/wk)))\n",
    "\n",
    "#fig,ax = plt.subplots(1,1)\n",
    "#ax.plot(Zr,-Zi,'.')\n",
    "#ax.set_aspect('equal')\n",
    "\n",
    "def resid(params,w,Zr,Zi):\n",
    "    parvals = params.valuesdict()\n",
    "    Rw1 = parvals['Rw1']\n",
    "    wk1 = parvals['wk1']\n",
    "    wd1 = parvals['wd1']\n",
    "    Rw2 = parvals['Rw2']\n",
    "    wk2 = parvals['wk2']\n",
    "    wd2 = parvals['wd2']\n",
    "    model_real=np.real(absorb_model1(w,Rw1,wk1,wd1)+absorb_model1(w,Rw2,wk2,wd2))\n",
    "    model_im=np.imag(absorb_model1(w,Rw1,wk1,wd1)+absorb_model1(w,Rw2,wk2,wd2))\n",
    "    #model1 = np.sqrt(R/(1+(w/wk)**2))\n",
    "    #model2 = -np.sqrt(R*w/(wk*(1+(w/wk)**2)))\n",
    "    resid1 = model_real-Zr\n",
    "    resid2 = model_im-Zi\n",
    "    return np.concatenate((resid1,resid2))\n",
    "\n",
    "\n",
    "  \n",
    "    \n"
   ]
  },
  {
   "cell_type": "code",
   "execution_count": 32,
   "metadata": {},
   "outputs": [
    {
     "data": {
      "text/plain": [
       "Parameters([('Rw1',\n",
       "             <Parameter 'Rw1', value=0.0032711567338432612 +/- 4.36, bounds=[0:inf]>),\n",
       "            ('wk1',\n",
       "             <Parameter 'wk1', value=1393197.282538319 +/- 2.94e+08, bounds=[0:inf]>),\n",
       "            ('wd1',\n",
       "             <Parameter 'wd1', value=239745.4580121809 +/- 5.54e+08, bounds=[0:inf]>),\n",
       "            ('Rw2',\n",
       "             <Parameter 'Rw2', value=2.7780128979411498 +/- 2.85, bounds=[0:inf]>),\n",
       "            ('wk2',\n",
       "             <Parameter 'wk2', value=0.39390942418151043 +/- 1.24e+05, bounds=[0:inf]>),\n",
       "            ('wd2',\n",
       "             <Parameter 'wd2', value=47487.870774243071 +/- 5.18e+04, bounds=[0:inf]>)])"
      ]
     },
     "execution_count": 32,
     "metadata": {},
     "output_type": "execute_result"
    }
   ],
   "source": [
    "params = lmf.Parameters()  #add parameters with guesses\n",
    "params.add('Rw1',value = 1.5, min = 0)\n",
    "params.add('wk1',value = 300000, min = 0)\n",
    "params.add('wd1',value = 300000, min = 0)\n",
    "params.add('Rw2',value = 4, min = 0)\n",
    "params.add('wk2',value = 300000, min = 0)\n",
    "params.add('wd2',value = 300000, min = 0)\n",
    "\n",
    "fit = lmf.minimize(resid,params,args = (w(15)[-59:],Zr(15)[-59:],Zi(15)[-59:]))\n",
    "Rw1fit = fit.params['Rw1'].value\n",
    "wk1fit = fit.params['wk1'].value\n",
    "wd1fit = fit.params['wd1'].value\n",
    "Rw2fit = fit.params['Rw2'].value\n",
    "wk2fit = fit.params['wk2'].value\n",
    "wd2fit = fit.params['wd2'].value\n",
    "fit.params"
   ]
  },
  {
   "cell_type": "code",
   "execution_count": 34,
   "metadata": {},
   "outputs": [
    {
     "data": {
      "text/plain": [
       "[<matplotlib.lines.Line2D at 0x1126e18d0>,\n",
       " <matplotlib.lines.Line2D at 0x112702390>]"
      ]
     },
     "execution_count": 34,
     "metadata": {},
     "output_type": "execute_result"
    },
    {
     "data": {
      "image/png": "[encoded data removed]",
      "text/plain": [
       "<matplotlib.figure.Figure at 0x112995710>"
      ]
     },
     "metadata": {},
     "output_type": "display_data"
    },
    {
     "data": {
      "image/png": "[encoded data removed]",
      "text/plain": [
       "<matplotlib.figure.Figure at 0x112911898>"
      ]
     },
     "metadata": {},
     "output_type": "display_data"
    }
   ],
   "source": [
    "fig0,ax0 = plt.subplots(1,1)\n",
    "ax0.plot(Zr(15)[-59:],-Zi(15)[-59:],'.')\n",
    "ax0.plot(np.real(absorb_model1(w(15)[-59:],Rw1fit,wk1fit,wd1fit)+absorb_model1(w(15)[-59:],Rw2fit,wk2fit,wd2fit)),-np.imag(absorb_model1(w(15)[-59:],Rw1fit,wk1fit,wd1fit)+absorb_model1(w(15)[-59:],Rw2fit,wk2fit,wd2fit)))\n",
    "ax0.set_aspect('equal')\n",
    "#ax0.set_xlim([0,.2])\n",
    "#ax0.set_ylim([0,.2])\n",
    "\n",
    "\n",
    "\n",
    "fig,(ax1,ax2)= plt.subplots(2,1)\n",
    "ax1.plot(w(15)[-59:],Zr(15)[-59:],'.',w(15)[-59:],np.real(absorb_model1(w(15)[-59:],Rwfit,wkfit,wdfit)))\n",
    "ax2.plot(w(15)[-59:],Zi(15)[-59:],'.',w(15)[-59:],np.imag(absorb_model1(w(15)[-59:],Rwfit,wkfit,wdfit)))"
   ]
  },
  {
   "cell_type": "code",
   "execution_count": 165,
   "metadata": {},
   "outputs": [
    {
     "data": {
      "text/plain": [
       "[0, 1, 0, 1]"
      ]
     },
     "execution_count": 165,
     "metadata": {},
     "output_type": "execute_result"
    },
    {
     "data": {
      "image/png": "[encoded data removed]",
      "text/plain": [
       "<matplotlib.figure.Figure at 0x1145b4978>"
      ]
     },
     "metadata": {},
     "output_type": "display_data"
    }
   ],
   "source": [
    "## Fake data for testing\n",
    "R_act3=.1\n",
    "wk_act3 = 10\n",
    "R_act2=10\n",
    "wk_act2 = .1\n",
    "#noise= 0.01\n",
    "wt = np.concatenate((np.linspace(.01,100,10000),np.linspace(101,1e4,1000)))\n",
    "Zr3 = np.real(np.sqrt(R_act3/(1+(1j*wt/wk_act3))))\n",
    "Zi3 = np.imag(np.sqrt(R_act3/(1+(1j*wt/wk_act3))))\n",
    "Zr2 = np.real((0/3)+R_act2/(1+1j*wt/wk_act2))\n",
    "Zi2 = np.imag((0/3)+R_act2/(1+1j*wt/wk_act2))\n",
    "#Zr2 = np.sqrt(R_act/(1+(w/wk_act)**2))#+noise*np.random.random(w.size)\n",
    "#Zi2 = -np.sqrt(R_act*w/(wk_act*(1+(w/wk_act)**2)))#+noise*np.random.random(w.size)\n",
    "fig,ax= plt.subplots(1,1)\n",
    "ax.plot(Zr3,-Zi3,'.',Zr2,-Zi2)\n",
    "ax.set_aspect('equal')\n",
    "ax.axis([0,1, 0,1])\n"
   ]
  },
  {
   "cell_type": "code",
   "execution_count": 12,
   "metadata": {},
   "outputs": [
    {
     "data": {
      "text/plain": [
       "2.5637139114344598"
      ]
     },
     "execution_count": 12,
     "metadata": {},
     "output_type": "execute_result"
    }
   ],
   "source": [
    "fit.params['R'].value"
   ]
  },
  {
   "cell_type": "code",
   "execution_count": 2,
   "metadata": {},
   "outputs": [],
   "source": [
    "def circuit_model(w,Rs,Rc,C,n):\n",
    "    return Rs+(Rc/(1+((1j*w)**n)*C*Rc))\n",
    "\n",
    "def circuit_resid(params,w,Zr,Zi):\n",
    "    parvals = params.valuesdict()\n",
    "    Rs = parvals['Rs']\n",
    "    Rc = parvals['Rc']\n",
    "    C = parvals['C']\n",
    "    n = parvals['n']\n",
    "    model_real= np.real(circuit_model(w,Rs,Rc,C,n))#np.real(Rs+(Rc/(1+((1j*w)**n)*C*Rc)))\n",
    "    model_im= np.imag(circuit_model(w,Rs,Rc,C,n))\n",
    "    #model1 = np.sqrt(R/(1+(w/wk)**2))\n",
    "    #model2 = -np.sqrt(R*w/(wk*(1+(w/wk)**2)))\n",
    "    resid1 = model_real-Zr\n",
    "    resid2 = model_im-Zi\n",
    "    return np.concatenate((resid1,resid2))"
   ]
  },
  {
   "cell_type": "code",
   "execution_count": 3,
   "metadata": {},
   "outputs": [
    {
     "data": {
      "text/plain": [
       "Parameters([('Rs',\n",
       "             <Parameter 'Rs', value=0.054102519757732948 +/- 0.00235, bounds=[0:inf]>),\n",
       "            ('Rc',\n",
       "             <Parameter 'Rc', value=2.7659167075212241 +/- 0.00447, bounds=[0:inf]>),\n",
       "            ('C',\n",
       "             <Parameter 'C', value=5.9563173973042893e-06 +/- 1.03e-07, bounds=[0:inf]>),\n",
       "            ('n',\n",
       "             <Parameter 'n', value=0.92444133370083281 +/- 0.00151, bounds=[0:inf]>)])"
      ]
     },
     "execution_count": 3,
     "metadata": {},
     "output_type": "execute_result"
    }
   ],
   "source": [
    "params = lmf.Parameters()  #add parameters with guesses\n",
    "params.add('Rs',value = 0.1, min = 0)\n",
    "params.add('Rc',value = 1, min = 0)\n",
    "params.add('C',value = 1e-5, min = 0)\n",
    "params.add('n',value = 1, min = 0)\n",
    "\n",
    "\n",
    "fit = lmf.minimize(circuit_resid,params,args = (w(15)[-59:],Zr(15)[-59:],Zi(15)[-59:]))\n",
    "Rsfit = fit.params['Rs'].value\n",
    "Rcfit = fit.params['Rc'].value\n",
    "Cfit = fit.params['C'].value\n",
    "nfit = fit.params['n'].value\n",
    "fit.params"
   ]
  },
  {
   "cell_type": "raw",
   "metadata": {},
   "source": [
    "fig,ax = plt.subplots(1,1)\n",
    "ax.plot(Zr(15)[-59:],-Zi(15)[-59:],'.')\n",
    "ax.plot(np.real(Rsfit+(Rcfit/(1+((1j*w(15)[-59:])**nfit)*Cfit*Rcfit))),-np.imag(Rsfit+(Rcfit/(1+((1j*w(15)[-59:])**nfit)*Cfit*Rcfit))))\n",
    "ax.set_aspect('equal')"
   ]
  },
  {
   "cell_type": "code",
   "execution_count": 76,
   "metadata": {},
   "outputs": [
    {
     "data": {
      "text/plain": [
       "Text(0,0.5,\"-z''\")"
      ]
     },
     "execution_count": 76,
     "metadata": {},
     "output_type": "execute_result"
    },
    {
     "data": {
      "image/png": "[encoded data removed]",
      "text/plain": [
       "<matplotlib.figure.Figure at 0x10ac34400>"
      ]
     },
     "metadata": {},
     "output_type": "display_data"
    }
   ],
   "source": [
    "#Just looking at the low T data\n",
    "fig, ax = plt.subplots(1,1)\n",
    "ax.plot(Zr(4)[-96:],-Zi(4)[-96:],'k.')\n",
    "ax.set_aspect('equal')\n",
    "ax.set_xlabel(\"Z'\")\n",
    "ax.set_ylabel(\"-z''\")\n",
    "#ax.set_xlim([0,1]);\n",
    "#ax.set_ylim([0,1]);\n"
   ]
  },
  {
   "cell_type": "code",
   "execution_count": 77,
   "metadata": {},
   "outputs": [
    {
     "data": {
      "text/plain": [
       "Parameters([('Rs',\n",
       "             <Parameter 'Rs', value=0.58201496284036036 +/- 0.364, bounds=[0:50]>),\n",
       "            ('Rc',\n",
       "             <Parameter 'Rc', value=783.9965324227079 +/- 2.93, bounds=[0:inf]>),\n",
       "            ('C',\n",
       "             <Parameter 'C', value=5.1942897159384605e-06 +/- 7.41e-08, bounds=[0:0.0001]>),\n",
       "            ('n',\n",
       "             <Parameter 'n', value=0.90095205119633948 +/- 0.00217, bounds=[0.8:1.2]>)])"
      ]
     },
     "execution_count": 77,
     "metadata": {},
     "output_type": "execute_result"
    }
   ],
   "source": [
    "params = lmf.Parameters()  #add parameters with guesses\n",
    "params.add('Rs',value = 5, min = 0, max = 50)\n",
    "params.add('Rc',value = 1000, min = 0)\n",
    "params.add('C',value = 1e-5, min = 0, max = 1e-4)\n",
    "params.add('n',value = 1, min = .8, max = 1.2)\n",
    "\n",
    "\n",
    "fit = lmf.minimize(circuit_resid,params,args = (w(4)[-96:],Zr(4)[-96:],Zi(4)[-96:]))\n",
    "Rsfit = fit.params['Rs'].value\n",
    "Rcfit = fit.params['Rc'].value\n",
    "Cfit = fit.params['C'].value\n",
    "nfit = fit.params['n'].value\n",
    "fit.params"
   ]
  },
  {
   "cell_type": "code",
   "execution_count": 78,
   "metadata": {},
   "outputs": [
    {
     "data": {
      "text/plain": [
       "[<matplotlib.lines.Line2D at 0x10a7ac128>]"
      ]
     },
     "execution_count": 78,
     "metadata": {},
     "output_type": "execute_result"
    },
    {
     "data": {
      "image/png": "[encoded data removed]",
      "text/plain": [
       "<matplotlib.figure.Figure at 0x10ab22390>"
      ]
     },
     "metadata": {},
     "output_type": "display_data"
    }
   ],
   "source": [
    "fig,ax = plt.subplots(1,1)\n",
    "ax.plot(Zr(4)[-96:],-Zi(4)[-96:],'.')\n",
    "ax.plot(np.real(Rsfit+(Rcfit/(1+((1j*w(4)[-96:])**nfit)*Cfit*Rcfit))),-np.imag(Rsfit+(Rcfit/(1+((1j*w(4)[-96:])**nfit)*Cfit*Rcfit))))\n",
    "#ax.set_aspect('equal')"
   ]
  },
  {
   "cell_type": "code",
   "execution_count": null,
   "metadata": {},
   "outputs": [],
   "source": []
  }
 ],
 "metadata": {
  "kernelspec": {
   "display_name": "Python 3",
   "language": "python",
   "name": "python3"
  },
  "language_info": {
   "codemirror_mode": {
    "name": "ipython",
    "version": 3
   },
   "file_extension": ".py",
   "mimetype": "text/x-python",
   "name": "python",
   "nbconvert_exporter": "python",
   "pygments_lexer": "ipython3",
   "version": "3.6.3"
  }
 },
 "nbformat": 4,
 "nbformat_minor": 2
}
