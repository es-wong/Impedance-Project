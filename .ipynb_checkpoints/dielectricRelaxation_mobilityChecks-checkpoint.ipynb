{
 "cells": [
  {
   "cell_type": "markdown",
   "metadata": {},
   "source": [
    "Leo obtains a room temperature FET mobility of $\\approx 10^{-4} cm^{2} (Vs)^{-1}$ on PbS-EDT arrays. However, anecdotally, it's always hard to get a decent FET mobility out of small particles. Thus, I assume this figure corresponds to larger particles. The Sargent group (Jeong, et. al) also obtain $2 \\times 10^{-4} cm^{2} (Vs)^{-1}$ *via* FET measurements.\n",
    "\n",
    "Daniel's TRMC measurements (dated 07/09/2017) give a mobility of $(2-3) \\times 10^{-3} cm^{2} (Vs)^{-1}$, on particles thatI presume are the same size as those we care about in solar cell measurements. Daniel claims that the mobilities obtained by FET measurements are usually larger than those obtained by TRMC for large particles. However, we know that it's generally hard to make gate-able devices out of small particles. As a result, Daniel consistently sees a TRMC mobility for small particles that is consistently larger than those from FETs.\n",
    "\n",
    "So let's try our back of the envelope calculation. From our roughly room temperature DLCP measurements, we know that the carrier concentration at high freauency (which I am pretty sure is the free carrier density in the band) is roughly $\\sim 3 \\times 10^{17} cm^{-3}$. Using the above mobility numbers, let's see what the freeze out frequency should be:"
   ]
  },
  {
   "cell_type": "code",
   "execution_count": 2,
   "metadata": {
    "collapsed": false
   },
   "outputs": [
    {
     "name": "stdout",
     "output_type": "stream",
     "text": [
      "Relaxation frequency based on FET mobility: 1.5733493090816235 M rad/s\n",
      "Relaxation frequency based on TRMC mobility: 47.20047927244872 M rad/s\n"
     ]
    }
   ],
   "source": [
    "# back of the envelope relaxation frequency calculation. Assume depletion width w = film thickness d\n",
    "\n",
    "# permittivity (in cm). the second epsilon is the weird value from TAS, the first is the accepted value from capacitance measurements\n",
    "epsilon = 8.854e-14\n",
    "epsilonR = 11.5\n",
    "epsilonR2 = 25\n",
    "q = 1.602e-19\n",
    "\n",
    "# mobility. 1 indicates FET measurement, 2 indicates TRMC measurement\n",
    "mu1 = 1e-4\n",
    "mu2 = 3e-3\n",
    "\n",
    "# carrier concentration\n",
    "Na = 1e17\n",
    "\n",
    "# freeze out calculations. factor of 1e6 at end means we are expressing these values in 10^6 rad/s\n",
    "omegaD1 = ((q*mu1*Na)/(epsilon*epsilonR))/1e6\n",
    "omegaD2 = (q*mu2*Na)/(epsilon*epsilonR)/1e6\n",
    "\n",
    "print('Relaxation frequency based on FET mobility: {} M rad/s'.format(omegaD1))\n",
    "print('Relaxation frequency based on TRMC mobility: {} M rad/s'.format(omegaD2))"
   ]
  },
  {
   "cell_type": "markdown",
   "metadata": {},
   "source": [
    "Based on this, it seems like the accepted, FET values are more in line with our data. "
   ]
  },
  {
   "cell_type": "code",
   "execution_count": 3,
   "metadata": {
    "collapsed": false
   },
   "outputs": [
    {
     "data": {
      "text/plain": [
       "0.0189574"
      ]
     },
     "execution_count": 3,
     "metadata": {},
     "output_type": "execute_result"
    }
   ],
   "source": [
    "kB = 8.617e-5\n",
    "\n",
    "kB*220"
   ]
  },
  {
   "cell_type": "code",
   "execution_count": null,
   "metadata": {
    "collapsed": true
   },
   "outputs": [],
   "source": []
  }
 ],
 "metadata": {
  "anaconda-cloud": {},
  "kernelspec": {
   "display_name": "Python [conda env:Anaconda3]",
   "language": "python",
   "name": "conda-env-Anaconda3-py"
  },
  "language_info": {
   "codemirror_mode": {
    "name": "ipython",
    "version": 3
   },
   "file_extension": ".py",
   "mimetype": "text/x-python",
   "name": "python",
   "nbconvert_exporter": "python",
   "pygments_lexer": "ipython3",
   "version": "3.5.2"
  }
 },
 "nbformat": 4,
 "nbformat_minor": 1
}
