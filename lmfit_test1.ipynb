{
 "cells": [
  {
   "cell_type": "markdown",
   "metadata": {},
   "source": [
    "### 2/16/18 ughhhh. the lmfit stuff is right. the model you gave me is wrong, and we both messed up the math you had me double check. I commented out a bunch of stuff so I could test (namely the helper functions)"
   ]
  },
  {
   "cell_type": "code",
   "execution_count": 4,
   "metadata": {},
   "outputs": [],
   "source": [
    "import numpy as np\n",
    "import lmfit as lmf\n",
    "import matplotlib.pyplot as plt\n",
    "%matplotlib inline\n",
    "\n",
    "\n",
    "\n",
    "importdata = np.genfromtxt('IS400.csv',delimiter=',');  #read in data that i output from matlab. input format has each\n",
    "                                                        #of the 16 Temperature data sets stacked vertically. \n",
    "npoints = 101; #each T has 101 points\n",
    "IS400 = np.zeros((16,npoints,5)) #Initialize new 3d array to hold data. note: first index is what we would traditionally \n",
    "                            #think of as the last index. it makes sense though when you think hierarchically,\n",
    "                            #i.e. main list has 16 elements each of which has 101 smaller elements containing 5 elemnts. \n",
    "for i in range(0,16):\n",
    "    IS400[i,:,:]=importdata[(npoints*i):(npoints*(i+1)) , :] #slice the data into subarrays  \n",
    "    \n",
    "## Function definitions\n",
    "\n",
    "def Zr(T): #pulls out Z'\n",
    "    return IS400[T,:,3]\n",
    "def Zi(T): #pulls out Z''\n",
    "    return IS400[T,:,4]\n",
    "def w(T): #pulls out omega\n",
    "    return IS400[T,:,0]\n",
    "\n",
    "#fig,ax = plt.subplots(1,1)\n",
    "#ax.plot(Zr,-Zi,'.')\n",
    "#ax.set_aspect('equal')\n",
    "\n",
    "def resid(params,w,Zr,Zi):\n",
    "    parvals = params.valuesdict()\n",
    "    R = parvals['R']\n",
    "    wk = parvals['wk']\n",
    "    model1=np.real(np.sqrt(R/(1+1j*w/wk)))\n",
    "    model2=np.imag(np.sqrt(R/(1+1j*w/wk)))\n",
    "    #model1 = np.sqrt(R/(1+(w/wk)**2))\n",
    "    #model2 = -np.sqrt(R*w/(wk*(1+(w/wk)**2)))\n",
    "    resid1 = model1-Zr\n",
    "    resid2 = model2-Zi\n",
    "    return np.concatenate((resid1,resid2))\n",
    "\n",
    "\n",
    "  \n",
    "    \n"
   ]
  },
  {
   "cell_type": "code",
   "execution_count": 2,
   "metadata": {},
   "outputs": [
    {
     "data": {
      "text/plain": [
       "Parameters([('R',\n",
       "             <Parameter 'R', value=8.2507820014749349 +/- 0.276, bounds=[-inf:inf]>),\n",
       "            ('wk',\n",
       "             <Parameter 'wk', value=56149.328446962223 +/- 2.89e+03, bounds=[-inf:inf]>)])"
      ]
     },
     "execution_count": 2,
     "metadata": {},
     "output_type": "execute_result"
    }
   ],
   "source": [
    "params = lmf.Parameters()  #add parameters with guesses\n",
    "params.add('R',value = 1.5)\n",
    "params.add('wk',value = 300000)\n",
    "\n",
    "fit = lmf.minimize(resid,params,args = (w(15)[-59:],Zr(15)[-59:],Zi(15)[-59:]))\n",
    "Rfit = fit.params['R'].value\n",
    "wkfit = fit.params['wk'].value\n",
    "fit.params"
   ]
  },
  {
   "cell_type": "code",
   "execution_count": 3,
   "metadata": {},
   "outputs": [
    {
     "name": "stderr",
     "output_type": "stream",
     "text": [
      "/usr/local/lib/python3.6/site-packages/matplotlib/cbook/deprecation.py:106: MatplotlibDeprecationWarning: Adding an axes using the same arguments as a previous axes currently reuses the earlier instance.  In a future version, a new instance will always be created and returned.  Meanwhile, this warning can be suppressed, and the future behavior ensured, by passing a unique label to each axes instance.\n",
      "  warnings.warn(message, mplDeprecation, stacklevel=1)\n"
     ]
    },
    {
     "data": {
      "text/plain": [
       "[<matplotlib.lines.Line2D at 0x10dbfe2e8>,\n",
       " <matplotlib.lines.Line2D at 0x10dbfed68>]"
      ]
     },
     "execution_count": 3,
     "metadata": {},
     "output_type": "execute_result"
    },
    {
     "data": {
      "image/png": "[encoded data removed]",
      "text/plain": [
       "<matplotlib.figure.Figure at 0x10dc05a90>"
      ]
     },
     "metadata": {},
     "output_type": "display_data"
    },
    {
     "data": {
      "image/png": "[encoded data removed]",
      "text/plain": [
       "<matplotlib.figure.Figure at 0x10dcc4cc0>"
      ]
     },
     "metadata": {},
     "output_type": "display_data"
    }
   ],
   "source": [
    "plt.plot(Zr(15)[-59:],-Zi(15)[-59:],'.')\n",
    "plt.plot(np.real(np.sqrt(Rfit/(1+1j*w(15)[-59:]/wkfit))),-np.imag(np.sqrt(Rfit/(1+1j*w(15)[-59:]/wkfit))))\n",
    "plt.axes().set_aspect('equal')\n",
    "fig,(ax1,ax2)= plt.subplots(2,1)\n",
    "ax1.plot(w(15)[-59:],Zr(15)[-59:],'.',w(15)[-59:],np.real(np.sqrt(Rfit/(1+1j*w(15)[-59:]/wkfit))))\n",
    "ax2.plot(w(15)[-59:],Zi(15)[-59:],'.',w(15)[-59:],np.imag(np.sqrt(Rfit/(1+1j*w(15)[-59:]/wkfit))))"
   ]
  },
  {
   "cell_type": "code",
   "execution_count": 165,
   "metadata": {},
   "outputs": [
    {
     "data": {
      "text/plain": [
       "[0, 1, 0, 1]"
      ]
     },
     "execution_count": 165,
     "metadata": {},
     "output_type": "execute_result"
    },
    {
     "data": {
      "image/png": "[encoded data removed]",
      "text/plain": [
       "<matplotlib.figure.Figure at 0x1145b4978>"
      ]
     },
     "metadata": {},
     "output_type": "display_data"
    }
   ],
   "source": [
    "## Fake data for testing\n",
    "R_act3=.1\n",
    "wk_act3 = 10\n",
    "R_act2=10\n",
    "wk_act2 = .1\n",
    "#noise= 0.01\n",
    "wt = np.concatenate((np.linspace(.01,100,10000),np.linspace(101,1e4,1000)))\n",
    "Zr3 = np.real(np.sqrt(R_act3/(1+(1j*wt/wk_act3))))\n",
    "Zi3 = np.imag(np.sqrt(R_act3/(1+(1j*wt/wk_act3))))\n",
    "Zr2 = np.real((0/3)+R_act2/(1+1j*wt/wk_act2))\n",
    "Zi2 = np.imag((0/3)+R_act2/(1+1j*wt/wk_act2))\n",
    "#Zr2 = np.sqrt(R_act/(1+(w/wk_act)**2))#+noise*np.random.random(w.size)\n",
    "#Zi2 = -np.sqrt(R_act*w/(wk_act*(1+(w/wk_act)**2)))#+noise*np.random.random(w.size)\n",
    "fig,ax= plt.subplots(1,1)\n",
    "ax.plot(Zr3,-Zi3,'.',Zr2,-Zi2)\n",
    "ax.set_aspect('equal')\n",
    "ax.axis([0,1, 0,1])\n"
   ]
  },
  {
   "cell_type": "code",
   "execution_count": 12,
   "metadata": {},
   "outputs": [
    {
     "data": {
      "text/plain": [
       "2.5637139114344598"
      ]
     },
     "execution_count": 12,
     "metadata": {},
     "output_type": "execute_result"
    }
   ],
   "source": [
    "fit.params['R'].value"
   ]
  },
  {
   "cell_type": "code",
   "execution_count": null,
   "metadata": {},
   "outputs": [],
   "source": []
  }
 ],
 "metadata": {
  "kernelspec": {
   "display_name": "Python 3",
   "language": "python",
   "name": "python3"
  },
  "language_info": {
   "codemirror_mode": {
    "name": "ipython",
    "version": 3
   },
   "file_extension": ".py",
   "mimetype": "text/x-python",
   "name": "python",
   "nbconvert_exporter": "python",
   "pygments_lexer": "ipython3",
   "version": "3.6.3"
  }
 },
 "nbformat": 4,
 "nbformat_minor": 2
}
