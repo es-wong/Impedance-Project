{
 "cells": [
  {
   "cell_type": "markdown",
   "metadata": {},
   "source": [
    "## 3/2/18 just needed another copy of this to try some different things/maybe clean stuff up"
   ]
  },
  {
   "cell_type": "code",
   "execution_count": 1,
   "metadata": {},
   "outputs": [],
   "source": [
    "import numpy as np\n",
    "import lmfit as lmf\n",
    "import matplotlib.pyplot as plt\n",
    "%matplotlib inline\n",
    "\n",
    "\n",
    "\n",
    "importdata = np.genfromtxt('IS400.csv',delimiter=',');  #read in data that i output from matlab. input format has each\n",
    "                                                        #of the 16 Temperature data sets stacked vertically. \n",
    "npoints = 101; #each T has 101 points\n",
    "IS400 = np.zeros((16,npoints,5)) #Initialize new 3d array to hold data. note: first index is what we would traditionally \n",
    "                            #think of as the last index. it makes sense though when you think hierarchically,\n",
    "                            #i.e. main list has 16 elements each of which has 101 smaller elements containing 5 elemnts. \n",
    "for i in range(0,16):\n",
    "    IS400[i,:,:]=importdata[(npoints*i):(npoints*(i+1)) , :] #slice the data into subarrays  \n",
    "    \n",
    "## Function definitions\n",
    "\n",
    "def Zr(T): #pulls out Z'\n",
    "    return IS400[T,:,3]\n",
    "def Zi(T): #pulls out Z''\n",
    "    return IS400[T,:,4]\n",
    "def w(T): #pulls out omega\n",
    "    return IS400[T,:,0]\n",
    "\n",
    "\n",
    "\n",
    "  \n",
    "    \n"
   ]
  },
  {
   "cell_type": "code",
   "execution_count": 165,
   "metadata": {},
   "outputs": [
    {
     "data": {
      "text/plain": [
       "[0, 1, 0, 1]"
      ]
     },
     "execution_count": 165,
     "metadata": {},
     "output_type": "execute_result"
    },
    {
     "data": {
      "image/png": "[encoded data removed]",
      "text/plain": [
       "<matplotlib.figure.Figure at 0x1145b4978>"
      ]
     },
     "metadata": {},
     "output_type": "display_data"
    }
   ],
   "source": [
    "## Fake data for testing\n",
    "R_act3=.1\n",
    "wk_act3 = 10\n",
    "R_act2=10\n",
    "wk_act2 = .1\n",
    "#noise= 0.01\n",
    "wt = np.concatenate((np.linspace(.01,100,10000),np.linspace(101,1e4,1000)))\n",
    "Zr3 = np.real(np.sqrt(R_act3/(1+(1j*wt/wk_act3))))\n",
    "Zi3 = np.imag(np.sqrt(R_act3/(1+(1j*wt/wk_act3))))\n",
    "Zr2 = np.real((0/3)+R_act2/(1+1j*wt/wk_act2))\n",
    "Zi2 = np.imag((0/3)+R_act2/(1+1j*wt/wk_act2))\n",
    "#Zr2 = np.sqrt(R_act/(1+(w/wk_act)**2))#+noise*np.random.random(w.size)\n",
    "#Zi2 = -np.sqrt(R_act*w/(wk_act*(1+(w/wk_act)**2)))#+noise*np.random.random(w.size)\n",
    "fig,ax= plt.subplots(1,1)\n",
    "ax.plot(Zr3,-Zi3,'.',Zr2,-Zi2)\n",
    "ax.set_aspect('equal')\n",
    "ax.axis([0,1, 0,1])\n"
   ]
  },
  {
   "cell_type": "code",
   "execution_count": 2,
   "metadata": {},
   "outputs": [],
   "source": [
    "def circuit_model(w,Rs,Rc,C,n):\n",
    "    return Rs+(Rc/(1+((1j*w)**n)*C*Rc))\n",
    "\n",
    "def circuit_resid(params,w,Zr,Zi):\n",
    "    parvals = params.valuesdict()\n",
    "    Rs = parvals['Rs']\n",
    "    Rc = parvals['Rc']\n",
    "    C = parvals['C']\n",
    "    n = parvals['n']\n",
    "    model_real= np.real(circuit_model(w,Rs,Rc,C,n))#np.real(Rs+(Rc/(1+((1j*w)**n)*C*Rc)))\n",
    "    model_im= np.imag(circuit_model(w,Rs,Rc,C,n))\n",
    "    #model1 = np.sqrt(R/(1+(w/wk)**2))\n",
    "    #model2 = -np.sqrt(R*w/(wk*(1+(w/wk)**2)))\n",
    "    resid1 = model_real-Zr\n",
    "    resid2 = model_im-Zi\n",
    "    return np.concatenate((resid1,resid2))"
   ]
  },
  {
   "cell_type": "code",
   "execution_count": 3,
   "metadata": {},
   "outputs": [
    {
     "data": {
      "text/plain": [
       "Parameters([('Rs',\n",
       "             <Parameter 'Rs', value=0.054102519757732948 +/- 0.00235, bounds=[0:inf]>),\n",
       "            ('Rc',\n",
       "             <Parameter 'Rc', value=2.7659167075212241 +/- 0.00447, bounds=[0:inf]>),\n",
       "            ('C',\n",
       "             <Parameter 'C', value=5.9563173973042893e-06 +/- 1.03e-07, bounds=[0:inf]>),\n",
       "            ('n',\n",
       "             <Parameter 'n', value=0.92444133370083281 +/- 0.00151, bounds=[0:inf]>)])"
      ]
     },
     "execution_count": 3,
     "metadata": {},
     "output_type": "execute_result"
    }
   ],
   "source": [
    "params = lmf.Parameters()  #add parameters with guesses\n",
    "params.add('Rs',value = 0.1, min = 0)\n",
    "params.add('Rc',value = 1, min = 0)\n",
    "params.add('C',value = 1e-5, min = 0)\n",
    "params.add('n',value = 1, min = 0)\n",
    "\n",
    "\n",
    "fit = lmf.minimize(circuit_resid,params,args = (w(15)[-59:],Zr(15)[-59:],Zi(15)[-59:]))\n",
    "Rsfit = fit.params['Rs'].value\n",
    "Rcfit = fit.params['Rc'].value\n",
    "Cfit = fit.params['C'].value\n",
    "nfit = fit.params['n'].value\n",
    "fit.params"
   ]
  },
  {
   "cell_type": "raw",
   "metadata": {},
   "source": [
    "fig,ax = plt.subplots(1,1)\n",
    "ax.plot(Zr(15)[-59:],-Zi(15)[-59:],'.')\n",
    "ax.plot(np.real(Rsfit+(Rcfit/(1+((1j*w(15)[-59:])**nfit)*Cfit*Rcfit))),-np.imag(Rsfit+(Rcfit/(1+((1j*w(15)[-59:])**nfit)*Cfit*Rcfit))))\n",
    "ax.set_aspect('equal')"
   ]
  },
  {
   "cell_type": "code",
   "execution_count": 76,
   "metadata": {},
   "outputs": [
    {
     "data": {
      "text/plain": [
       "Text(0,0.5,\"-z''\")"
      ]
     },
     "execution_count": 76,
     "metadata": {},
     "output_type": "execute_result"
    },
    {
     "data": {
      "image/png": "[encoded data removed]",
      "text/plain": [
       "<matplotlib.figure.Figure at 0x10ac34400>"
      ]
     },
     "metadata": {},
     "output_type": "display_data"
    }
   ],
   "source": [
    "#Just looking at the low T data\n",
    "fig, ax = plt.subplots(1,1)\n",
    "ax.plot(Zr(4)[-96:],-Zi(4)[-96:],'k.')\n",
    "ax.set_aspect('equal')\n",
    "ax.set_xlabel(\"Z'\")\n",
    "ax.set_ylabel(\"-z''\")\n",
    "#ax.set_xlim([0,1]);\n",
    "#ax.set_ylim([0,1]);\n"
   ]
  },
  {
   "cell_type": "code",
   "execution_count": 77,
   "metadata": {},
   "outputs": [
    {
     "data": {
      "text/plain": [
       "Parameters([('Rs',\n",
       "             <Parameter 'Rs', value=0.58201496284036036 +/- 0.364, bounds=[0:50]>),\n",
       "            ('Rc',\n",
       "             <Parameter 'Rc', value=783.9965324227079 +/- 2.93, bounds=[0:inf]>),\n",
       "            ('C',\n",
       "             <Parameter 'C', value=5.1942897159384605e-06 +/- 7.41e-08, bounds=[0:0.0001]>),\n",
       "            ('n',\n",
       "             <Parameter 'n', value=0.90095205119633948 +/- 0.00217, bounds=[0.8:1.2]>)])"
      ]
     },
     "execution_count": 77,
     "metadata": {},
     "output_type": "execute_result"
    }
   ],
   "source": [
    "params = lmf.Parameters()  #add parameters with guesses\n",
    "params.add('Rs',value = 5, min = 0, max = 50)\n",
    "params.add('Rc',value = 1000, min = 0)\n",
    "params.add('C',value = 1e-5, min = 0, max = 1e-4)\n",
    "params.add('n',value = 1, min = .8, max = 1.2)\n",
    "\n",
    "\n",
    "fit = lmf.minimize(circuit_resid,params,args = (w(4)[-96:],Zr(4)[-96:],Zi(4)[-96:]))\n",
    "Rsfit = fit.params['Rs'].value\n",
    "Rcfit = fit.params['Rc'].value\n",
    "Cfit = fit.params['C'].value\n",
    "nfit = fit.params['n'].value\n",
    "fit.params"
   ]
  },
  {
   "cell_type": "code",
   "execution_count": 78,
   "metadata": {},
   "outputs": [
    {
     "data": {
      "text/plain": [
       "[<matplotlib.lines.Line2D at 0x10a7ac128>]"
      ]
     },
     "execution_count": 78,
     "metadata": {},
     "output_type": "execute_result"
    },
    {
     "data": {
      "image/png": "[encoded data removed]",
      "text/plain": [
       "<matplotlib.figure.Figure at 0x10ab22390>"
      ]
     },
     "metadata": {},
     "output_type": "display_data"
    }
   ],
   "source": [
    "fig,ax = plt.subplots(1,1)\n",
    "ax.plot(Zr(4)[-96:],-Zi(4)[-96:],'.')\n",
    "ax.plot(np.real(Rsfit+(Rcfit/(1+((1j*w(4)[-96:])**nfit)*Cfit*Rcfit))),-np.imag(Rsfit+(Rcfit/(1+((1j*w(4)[-96:])**nfit)*Cfit*Rcfit))))\n",
    "#ax.set_aspect('equal')"
   ]
  },
  {
   "cell_type": "code",
   "execution_count": null,
   "metadata": {},
   "outputs": [],
   "source": []
  }
 ],
 "metadata": {
  "kernelspec": {
   "display_name": "Python 3",
   "language": "python",
   "name": "python3"
  },
  "language_info": {
   "codemirror_mode": {
    "name": "ipython",
    "version": 3
   },
   "file_extension": ".py",
   "mimetype": "text/x-python",
   "name": "python",
   "nbconvert_exporter": "python",
   "pygments_lexer": "ipython3",
   "version": "3.6.3"
  }
 },
 "nbformat": 4,
 "nbformat_minor": 2
}
